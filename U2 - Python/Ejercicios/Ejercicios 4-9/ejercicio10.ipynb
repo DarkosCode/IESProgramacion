{
  "cells": [
    {
      "cell_type": "markdown",
      "metadata": {
        "id": "b9CAcvWtpdcS"
      },
      "source": [
        "## Ejercicio\n",
        "\n",
        "Escribir un programa que permita gestionar la base de datos de clientes de una empresa. Los clientes se guardarán en un diccionario en el que la clave de cada cliente será su NIF, y el valor será otro diccionario con los datos del cliente (nombre, dirección, teléfono, correo, preferente), donde preferente tendrá el valor `True` si se trata de un cliente preferente. El programa debe preguntar al usuario por una opción del siguiente menú: (1) Añadir cliente, (2) Eliminar cliente, (3) Mostrar cliente, (4) Listar todos los clientes, (5) Listar clientes preferentes, (6) Terminar. En función de la opción elegida el programa tendrá que hacer lo siguiente:\n",
        "\n",
        "1. Preguntar los datos del cliente, crear un diccionario con los datos y añadirlo a la base de datos.\n",
        "2. Preguntar por el NIF del cliente y eliminar sus datos de la base de datos.\n",
        "3. Preguntar por el NIF del cliente y mostrar sus datos.\n",
        "4. Mostrar lista de todos los clientes de la base datos con su NIF y nombre.\n",
        "5. Mostrar la lista de clientes preferentes de la base de datos con su NIF y nombre.\n",
        "6. Terminar el programa."
      ]
    },
    {
      "cell_type": "markdown",
      "metadata": {
        "id": "FedkrCWzpdcV"
      },
      "source": [
        "## Solución"
      ]
    },
    {
      "cell_type": "code",
      "execution_count": null,
      "metadata": {
        "id": "xRjRc805pdcW",
        "outputId": "875eda38-934b-4a87-b103-5e8ce287cba8"
      },
      "outputs": [
        {
          "name": "stdin",
          "output_type": "stream",
          "text": [
            "Menú de opciones\n",
            "(1) Añadir cliente\n",
            "(2) Eliminar cliente\n",
            "(3) Mostrar cliente\n",
            "(4) Listar clientes\n",
            "(5) Listar clientes preferentes\n",
            "(6) Terminar\n",
            "Elige una opción: 1\n",
            "Introduce NIF del cliente:  11111111A\n",
            "Introduce el nombre del cliente:  Pepito Pérez\n",
            "Introduce la dirección del cliente:  Madrid\n",
            "Introduce el teléfono del cliente:  666555444\n",
            "Introduce el correo electrónico del cliente:  pepito@gmail.com\n",
            "¿Es un cliente preferente (S/N)?  S\n",
            "Menú de opciones\n",
            "(1) Añadir cliente\n",
            "(2) Eliminar cliente\n",
            "(3) Mostrar cliente\n",
            "(4) Listar clientes\n",
            "(5) Listar clientes preferentes\n",
            "(6) Terminar\n",
            "Elige una opción: 1\n",
            "Introduce NIF del cliente:  22222222B\n",
            "Introduce el nombre del cliente:  Paquito Fernández\n",
            "Introduce la dirección del cliente:  Barcelona\n",
            "Introduce el teléfono del cliente:  666333222\n",
            "Introduce el correo electrónico del cliente:  paquito@gmail.com\n",
            "¿Es un cliente preferente (S/N)?  N\n",
            "Menú de opciones\n",
            "(1) Añadir cliente\n",
            "(2) Eliminar cliente\n",
            "(3) Mostrar cliente\n",
            "(4) Listar clientes\n",
            "(5) Listar clientes preferentes\n",
            "(6) Terminar\n",
            "Elige una opción: 4\n"
          ]
        },
        {
          "name": "stdout",
          "output_type": "stream",
          "text": [
            "Lista de clientes\n",
            "11111111A Pepito Pérez\n",
            "22222222B Paquito Fernández\n"
          ]
        },
        {
          "name": "stdin",
          "output_type": "stream",
          "text": [
            "Menú de opciones\n",
            "(1) Añadir cliente\n",
            "(2) Eliminar cliente\n",
            "(3) Mostrar cliente\n",
            "(4) Listar clientes\n",
            "(5) Listar clientes preferentes\n",
            "(6) Terminar\n",
            "Elige una opción: 5\n"
          ]
        },
        {
          "name": "stdout",
          "output_type": "stream",
          "text": [
            "Lista de clientes preferentes\n",
            "11111111A Pepito Pérez\n"
          ]
        },
        {
          "name": "stdin",
          "output_type": "stream",
          "text": [
            "Menú de opciones\n",
            "(1) Añadir cliente\n",
            "(2) Eliminar cliente\n",
            "(3) Mostrar cliente\n",
            "(4) Listar clientes\n",
            "(5) Listar clientes preferentes\n",
            "(6) Terminar\n",
            "Elige una opción: 3\n",
            "Introduce NIF del cliente:  222\n"
          ]
        },
        {
          "name": "stdout",
          "output_type": "stream",
          "text": [
            "No existe el cliente con el nif 222\n"
          ]
        },
        {
          "name": "stdin",
          "output_type": "stream",
          "text": [
            "Menú de opciones\n",
            "(1) Añadir cliente\n",
            "(2) Eliminar cliente\n",
            "(3) Mostrar cliente\n",
            "(4) Listar clientes\n",
            "(5) Listar clientes preferentes\n",
            "(6) Terminar\n",
            "Elige una opción: 3\n",
            "Introduce NIF del cliente:  22222222A\n"
          ]
        },
        {
          "name": "stdout",
          "output_type": "stream",
          "text": [
            "No existe el cliente con el nif 22222222A\n"
          ]
        },
        {
          "name": "stdin",
          "output_type": "stream",
          "text": [
            "Menú de opciones\n",
            "(1) Añadir cliente\n",
            "(2) Eliminar cliente\n",
            "(3) Mostrar cliente\n",
            "(4) Listar clientes\n",
            "(5) Listar clientes preferentes\n",
            "(6) Terminar\n",
            "Elige una opción: 22222222B\n",
            "Menú de opciones\n",
            "(1) Añadir cliente\n",
            "(2) Eliminar cliente\n",
            "(3) Mostrar cliente\n",
            "(4) Listar clientes\n",
            "(5) Listar clientes preferentes\n",
            "(6) Terminar\n",
            "Elige una opción: 3\n",
            "Introduce NIF del cliente:  22222222B\n"
          ]
        },
        {
          "name": "stdout",
          "output_type": "stream",
          "text": [
            "NIF: 22222222B\n",
            "Nombre: Paquito Fernández\n",
            "Dirección: Barcelona\n",
            "Teléfono: 666333222\n",
            "Email: paquito@gmail.com\n",
            "Preferente: False\n"
          ]
        },
        {
          "name": "stdin",
          "output_type": "stream",
          "text": [
            "Menú de opciones\n",
            "(1) Añadir cliente\n",
            "(2) Eliminar cliente\n",
            "(3) Mostrar cliente\n",
            "(4) Listar clientes\n",
            "(5) Listar clientes preferentes\n",
            "(6) Terminar\n",
            "Elige una opción: 2\n",
            "Introduce NIF del cliente:  22\n"
          ]
        },
        {
          "name": "stdout",
          "output_type": "stream",
          "text": [
            "No existe el cliente con el nif 22\n"
          ]
        },
        {
          "name": "stdin",
          "output_type": "stream",
          "text": [
            "Menú de opciones\n",
            "(1) Añadir cliente\n",
            "(2) Eliminar cliente\n",
            "(3) Mostrar cliente\n",
            "(4) Listar clientes\n",
            "(5) Listar clientes preferentes\n",
            "(6) Terminar\n",
            "Elige una opción: 2\n",
            "Introduce NIF del cliente:  22222222B\n",
            "Menú de opciones\n",
            "(1) Añadir cliente\n",
            "(2) Eliminar cliente\n",
            "(3) Mostrar cliente\n",
            "(4) Listar clientes\n",
            "(5) Listar clientes preferentes\n",
            "(6) Terminar\n",
            "Elige una opción: 4\n"
          ]
        },
        {
          "name": "stdout",
          "output_type": "stream",
          "text": [
            "Lista de clientes\n",
            "11111111A Pepito Pérez\n"
          ]
        },
        {
          "name": "stdin",
          "output_type": "stream",
          "text": [
            "Menú de opciones\n",
            "(1) Añadir cliente\n",
            "(2) Eliminar cliente\n",
            "(3) Mostrar cliente\n",
            "(4) Listar clientes\n",
            "(5) Listar clientes preferentes\n",
            "(6) Terminar\n",
            "Elige una opción: 6\n"
          ]
        }
      ],
      "source": [
        "clientes = {}\n",
        "opcion = ''\n"
      ]
    }
  ],
  "metadata": {
    "kernelspec": {
      "display_name": "Python 3",
      "language": "python",
      "name": "python3"
    },
    "language_info": {
      "codemirror_mode": {
        "name": "ipython",
        "version": 3
      },
      "file_extension": ".py",
      "mimetype": "text/x-python",
      "name": "python",
      "nbconvert_exporter": "python",
      "pygments_lexer": "ipython3",
      "version": "3.6.8"
    },
    "colab": {
      "provenance": []
    }
  },
  "nbformat": 4,
  "nbformat_minor": 0
}
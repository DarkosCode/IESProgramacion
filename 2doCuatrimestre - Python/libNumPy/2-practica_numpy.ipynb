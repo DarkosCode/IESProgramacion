{
  "cells": [
    {
      "cell_type": "markdown",
      "metadata": {
        "id": "view-in-github",
        "colab_type": "text"
      },
      "source": [
        "<a href=\"https://colab.research.google.com/gist/DarkosDaKing/98312cc7c466f62ac798e09f65c15fcf/2-practica_numpy.ipynb\" target=\"_parent\"><img src=\"https://colab.research.google.com/assets/colab-badge.svg\" alt=\"Open In Colab\"/></a>"
      ]
    },
    {
      "cell_type": "markdown",
      "metadata": {
        "id": "1RwCWi53iZ7L"
      },
      "source": [
        "# [PRACTICA DE NUMPY](https://joserzapata.github.io/courses/python-ciencia-datos/numpy/)\n",
        "## [Curso Python para Ciencia de datos](https://joserzapata.github.io/courses/python-ciencia-datos/)\n",
        "### Por Jose R. Zapata - https://joserzapata.github.io/"
      ]
    },
    {
      "cell_type": "markdown",
      "metadata": {
        "id": "Gh08rEVHiZ7M"
      },
      "source": [
        "<div class=\"alert alert-success\">\n",
        "\n",
        "<b>NOTA:</b> Realizar Primero los ejercicios y luego revisar las soluciones propuestas.\n",
        "\n",
        "[Solucion Ejercicios Numpy - click para abrir](https://joserzapata.github.io/courses/python-ciencia-datos/numpy/2-practica_numpy-solucion/)\n",
        "\n",
        "</div>"
      ]
    },
    {
      "cell_type": "markdown",
      "metadata": {
        "id": "q-BpRdu0iZ7M"
      },
      "source": [
        "Los arreglos de numpy son la base de la computación científica en Python\n",
        "- los dataframes de pandas para análisis de datos (Numpy era la unica base hasta pandas 1.5.3)\n",
        "- los datos de entrada o salida para hacer Machine Learning con scikit-learn son arreglos de numpy\n",
        "\n",
        "**Nota:** Es importante familiarizarse con el manejo de arreglos de numpy para poder hacer ciencia de datos con Python e identificar cuando usar un arreglo de numpy o un dataframe de pandas."
      ]
    },
    {
      "cell_type": "markdown",
      "metadata": {
        "id": "p-HVU0a8iZ7M"
      },
      "source": [
        "**Importe NumPy como np**"
      ]
    },
    {
      "cell_type": "code",
      "execution_count": null,
      "metadata": {
        "collapsed": true,
        "id": "E_6MLbf1iZ7M"
      },
      "outputs": [],
      "source": [
        "import numpy as np"
      ]
    },
    {
      "cell_type": "markdown",
      "metadata": {
        "id": "yvI0ebSOiZ7N"
      },
      "source": [
        "**Cree un arreglo de ceros de 10 elementos**"
      ]
    },
    {
      "cell_type": "code",
      "execution_count": 54,
      "metadata": {
        "colab": {
          "base_uri": "https://localhost:8080/"
        },
        "id": "5wz0Xy1iiZ7N",
        "outputId": "ec772006-c879-4905-a158-5932a4da6409"
      },
      "outputs": [
        {
          "output_type": "stream",
          "name": "stdout",
          "text": [
            "[0. 0. 0. 0. 0. 0. 0. 0. 0. 0.]\n"
          ]
        }
      ],
      "source": [
        "arrayCeros = np.zeros(10)\n",
        "print(arrayCeros)"
      ]
    },
    {
      "cell_type": "code",
      "execution_count": null,
      "metadata": {
        "id": "cfVgrmBriZ7N",
        "outputId": "30bc2556-3d7a-40eb-f882-b0175dc3b78a"
      },
      "outputs": [
        {
          "data": {
            "text/plain": [
              "array([0., 0., 0., 0., 0., 0., 0., 0., 0., 0.])"
            ]
          },
          "execution_count": 3,
          "metadata": {},
          "output_type": "execute_result"
        }
      ],
      "source": []
    },
    {
      "cell_type": "markdown",
      "metadata": {
        "id": "FQVYZKHeiZ7N"
      },
      "source": [
        "**Cree un arreglo de unos de 10 elementos**"
      ]
    },
    {
      "cell_type": "code",
      "execution_count": 55,
      "metadata": {
        "colab": {
          "base_uri": "https://localhost:8080/"
        },
        "id": "0g6PmJHjiZ7N",
        "outputId": "e2be2532-0731-47b9-f4f2-c612a869111f"
      },
      "outputs": [
        {
          "output_type": "stream",
          "name": "stdout",
          "text": [
            "[1. 1. 1. 1. 1. 1. 1. 1. 1. 1.]\n"
          ]
        }
      ],
      "source": [
        "arrayUnos = np.ones(10)\n",
        "print(arrayUnos)"
      ]
    },
    {
      "cell_type": "code",
      "execution_count": null,
      "metadata": {
        "id": "Uc_M7GMxiZ7N",
        "outputId": "2702c5c0-1192-4db0-d66e-ef2b13d128a4"
      },
      "outputs": [
        {
          "data": {
            "text/plain": [
              "array([1., 1., 1., 1., 1., 1., 1., 1., 1., 1.])"
            ]
          },
          "execution_count": 5,
          "metadata": {},
          "output_type": "execute_result"
        }
      ],
      "source": []
    },
    {
      "cell_type": "markdown",
      "metadata": {
        "id": "T4F6_AQMiZ7O"
      },
      "source": [
        "**Cree un arreglo de cincos de 10 elementos**"
      ]
    },
    {
      "cell_type": "code",
      "execution_count": 61,
      "metadata": {
        "colab": {
          "base_uri": "https://localhost:8080/"
        },
        "id": "JsVJddNZiZ7O",
        "outputId": "4f78247f-5bb0-4c26-a45f-98e378a42838"
      },
      "outputs": [
        {
          "output_type": "stream",
          "name": "stdout",
          "text": [
            "5, 5, 5, 5, 5, 5, 5, 5, 5, 5\n"
          ]
        }
      ],
      "source": [
        "arrayCincos = np.full(10, 5)\n",
        "print(\", \".join(map(str, arrayCincos)))"
      ]
    },
    {
      "cell_type": "code",
      "execution_count": null,
      "metadata": {
        "id": "04eSV5H8iZ7O",
        "outputId": "93de7a6d-7b29-43a4-c097-fecc9521f7d6"
      },
      "outputs": [
        {
          "data": {
            "text/plain": [
              "array([5., 5., 5., 5., 5., 5., 5., 5., 5., 5.])"
            ]
          },
          "execution_count": 7,
          "metadata": {},
          "output_type": "execute_result"
        }
      ],
      "source": []
    },
    {
      "cell_type": "markdown",
      "metadata": {
        "id": "Q5S9RnXJiZ7O"
      },
      "source": [
        "**Cree un arreglo de números enteros Del 10 al 50 (incluido)**"
      ]
    },
    {
      "cell_type": "code",
      "execution_count": 65,
      "metadata": {
        "colab": {
          "base_uri": "https://localhost:8080/"
        },
        "id": "7rN0v8tQiZ7O",
        "outputId": "3c2d241e-a3fb-405b-e14e-594385695115"
      },
      "outputs": [
        {
          "output_type": "execute_result",
          "data": {
            "text/plain": [
              "array([10, 11, 12, 13, 14, 15, 16, 17, 18, 19, 20, 21, 22, 23, 24, 25, 26,\n",
              "       27, 28, 29, 30, 31, 32, 33, 34, 35, 36, 37, 38, 39, 40, 41, 42, 43,\n",
              "       44, 45, 46, 47, 48, 49, 50])"
            ]
          },
          "metadata": {},
          "execution_count": 65
        }
      ],
      "source": [
        "arrayHastael50 = np.arange(10, 51)\n",
        "arrayHastael50"
      ]
    },
    {
      "cell_type": "code",
      "execution_count": null,
      "metadata": {
        "id": "pDmjeDDFiZ7O",
        "outputId": "3173dce7-59bc-4a86-ba1f-b27e8d75b728"
      },
      "outputs": [
        {
          "data": {
            "text/plain": [
              "array([10, 11, 12, 13, 14, 15, 16, 17, 18, 19, 20, 21, 22, 23, 24, 25, 26,\n",
              "       27, 28, 29, 30, 31, 32, 33, 34, 35, 36, 37, 38, 39, 40, 41, 42, 43,\n",
              "       44, 45, 46, 47, 48, 49, 50])"
            ]
          },
          "execution_count": 9,
          "metadata": {},
          "output_type": "execute_result"
        }
      ],
      "source": []
    },
    {
      "cell_type": "markdown",
      "metadata": {
        "id": "ygzilWuliZ7O"
      },
      "source": [
        "**Cree un arreglo de los números enteros pares Del 10 al 50 (incluidos)**"
      ]
    },
    {
      "cell_type": "code",
      "execution_count": 66,
      "metadata": {
        "colab": {
          "base_uri": "https://localhost:8080/"
        },
        "id": "oJ2ELwI1iZ7O",
        "outputId": "424c5688-3bb0-421d-9530-efbdfb12a77a"
      },
      "outputs": [
        {
          "output_type": "execute_result",
          "data": {
            "text/plain": [
              "array([10, 12, 14, 16, 18, 20, 22, 24, 26, 28, 30, 32, 34, 36, 38, 40, 42,\n",
              "       44, 46, 48, 50])"
            ]
          },
          "metadata": {},
          "execution_count": 66
        }
      ],
      "source": [
        "array50Pares = arrayHastael50[arrayHastael50 % 2 == 0]\n",
        "array50Pares"
      ]
    },
    {
      "cell_type": "code",
      "source": [],
      "metadata": {
        "id": "UL7IT9lmqcNf"
      },
      "execution_count": null,
      "outputs": []
    },
    {
      "cell_type": "code",
      "execution_count": null,
      "metadata": {
        "id": "8VQ8hHMwiZ7O",
        "outputId": "13794c02-b8a1-436f-eba0-9a97ca6cde5a"
      },
      "outputs": [
        {
          "data": {
            "text/plain": [
              "array([10, 12, 14, 16, 18, 20, 22, 24, 26, 28, 30, 32, 34, 36, 38, 40, 42,\n",
              "       44, 46, 48, 50])"
            ]
          },
          "execution_count": 11,
          "metadata": {},
          "output_type": "execute_result"
        }
      ],
      "source": []
    },
    {
      "cell_type": "markdown",
      "metadata": {
        "id": "y6mcPagSiZ7O"
      },
      "source": [
        "**Crear una matrix de 3x3 con valores del 0 al 8 (incluido)**"
      ]
    },
    {
      "cell_type": "code",
      "execution_count": 69,
      "metadata": {
        "colab": {
          "base_uri": "https://localhost:8080/"
        },
        "id": "Hba6_WuOiZ7O",
        "outputId": "64e92c47-c599-4738-d785-1b8c11656fde"
      },
      "outputs": [
        {
          "output_type": "execute_result",
          "data": {
            "text/plain": [
              "array([[0, 1, 2],\n",
              "       [3, 4, 5],\n",
              "       [6, 7, 8]])"
            ]
          },
          "metadata": {},
          "execution_count": 69
        }
      ],
      "source": [
        "del0al8 = np.arange(0, 9)\n",
        "matrizeado = del0al8.reshape(3,3)\n",
        "matrizeado"
      ]
    },
    {
      "cell_type": "code",
      "execution_count": null,
      "metadata": {
        "id": "2RTjQSZ_iZ7O",
        "outputId": "91107a1e-0f56-4838-fa50-6a1610301795"
      },
      "outputs": [
        {
          "data": {
            "text/plain": [
              "array([[0, 1, 2],\n",
              "       [3, 4, 5],\n",
              "       [6, 7, 8]])"
            ]
          },
          "execution_count": 13,
          "metadata": {},
          "output_type": "execute_result"
        }
      ],
      "source": []
    },
    {
      "cell_type": "markdown",
      "metadata": {
        "id": "ObW4uSE2iZ7O"
      },
      "source": [
        "**Crear la matriz identidad de 3x3**"
      ]
    },
    {
      "cell_type": "code",
      "execution_count": 70,
      "metadata": {
        "colab": {
          "base_uri": "https://localhost:8080/"
        },
        "id": "jIyznMd9iZ7O",
        "outputId": "7852b91f-77e6-4160-cbe3-f40ff151cdb0"
      },
      "outputs": [
        {
          "output_type": "execute_result",
          "data": {
            "text/plain": [
              "array([[1., 0., 0.],\n",
              "       [0., 1., 0.],\n",
              "       [0., 0., 1.]])"
            ]
          },
          "metadata": {},
          "execution_count": 70
        }
      ],
      "source": [
        "identidad = np.eye(3)\n",
        "identidad"
      ]
    },
    {
      "cell_type": "code",
      "execution_count": null,
      "metadata": {
        "id": "fbhyP3c6iZ7O",
        "outputId": "c8bea65a-ca9b-42be-8a50-056cb4d35dbb"
      },
      "outputs": [
        {
          "data": {
            "text/plain": [
              "array([[1., 0., 0.],\n",
              "       [0., 1., 0.],\n",
              "       [0., 0., 1.]])"
            ]
          },
          "execution_count": 15,
          "metadata": {},
          "output_type": "execute_result"
        }
      ],
      "source": []
    },
    {
      "cell_type": "markdown",
      "metadata": {
        "id": "zmT0-q6liZ7O"
      },
      "source": [
        "**Use NumPy para generar un numero aleatorio entre 0 y 1**"
      ]
    },
    {
      "cell_type": "code",
      "execution_count": 71,
      "metadata": {
        "colab": {
          "base_uri": "https://localhost:8080/"
        },
        "id": "atmdPXSMiZ7P",
        "outputId": "fff73430-b201-46d7-b51b-6b4e7d54be83"
      },
      "outputs": [
        {
          "output_type": "execute_result",
          "data": {
            "text/plain": [
              "0.7666881387523078"
            ]
          },
          "metadata": {},
          "execution_count": 71
        }
      ],
      "source": [
        "aleatorio = np.random.rand()\n",
        "aleatorio"
      ]
    },
    {
      "cell_type": "code",
      "execution_count": null,
      "metadata": {
        "id": "qLyf4u-NiZ7P",
        "outputId": "4f07f693-b3b3-4207-e5fc-088f72fdd6f2"
      },
      "outputs": [
        {
          "data": {
            "text/plain": [
              "array([0.2369713])"
            ]
          },
          "execution_count": 17,
          "metadata": {},
          "output_type": "execute_result"
        }
      ],
      "source": []
    },
    {
      "cell_type": "markdown",
      "metadata": {
        "id": "Qm0H0_lOiZ7P"
      },
      "source": [
        "**Use NumPy para generar un arreglo de 25 números aleatorios que sean de la distribucion normal estandar**"
      ]
    },
    {
      "cell_type": "code",
      "execution_count": 72,
      "metadata": {
        "colab": {
          "base_uri": "https://localhost:8080/"
        },
        "id": "sWJxmu7XiZ7P",
        "outputId": "aa3c2369-8779-4195-e5e3-898788605c40"
      },
      "outputs": [
        {
          "output_type": "execute_result",
          "data": {
            "text/plain": [
              "array([0.76668814, 0.76668814, 0.76668814, 0.76668814, 0.76668814,\n",
              "       0.76668814, 0.76668814, 0.76668814, 0.76668814, 0.76668814,\n",
              "       0.76668814, 0.76668814, 0.76668814, 0.76668814, 0.76668814,\n",
              "       0.76668814, 0.76668814, 0.76668814, 0.76668814, 0.76668814,\n",
              "       0.76668814, 0.76668814, 0.76668814, 0.76668814, 0.76668814])"
            ]
          },
          "metadata": {},
          "execution_count": 72
        }
      ],
      "source": [
        "array25 = np.full(25, aleatorio)\n",
        "array25"
      ]
    },
    {
      "cell_type": "code",
      "execution_count": null,
      "metadata": {
        "id": "xGKanjmNiZ7P",
        "outputId": "ccc2e2c3-a875-4f8e-91ab-876dc8cae17d"
      },
      "outputs": [
        {
          "data": {
            "text/plain": [
              "array([-1.82518925,  0.35985968,  0.7908014 ,  1.09115394, -1.18145353,\n",
              "       -0.38358405, -0.1049287 ,  1.27313964,  0.05365275, -0.63835531,\n",
              "        0.4984666 , -1.60464831, -0.84688945,  0.4695778 ,  1.73142269,\n",
              "       -1.63808225, -0.67171648, -0.14015625,  0.50828476,  0.60145966,\n",
              "       -0.34493194,  0.09632452, -0.85907492, -0.46924336,  1.22406872])"
            ]
          },
          "execution_count": 19,
          "metadata": {},
          "output_type": "execute_result"
        }
      ],
      "source": []
    },
    {
      "cell_type": "markdown",
      "metadata": {
        "id": "mc34WKKOiZ7P"
      },
      "source": [
        "**Cree un arreglo de 20 elementos linealmente espaciados entre 0 y 1:**"
      ]
    },
    {
      "cell_type": "code",
      "execution_count": 27,
      "metadata": {
        "colab": {
          "base_uri": "https://localhost:8080/"
        },
        "id": "nsi_03GpiZ7P",
        "outputId": "c2ab97df-20e6-460c-daa4-acc4919fda45"
      },
      "outputs": [
        {
          "output_type": "stream",
          "name": "stdout",
          "text": [
            "[0.         0.05263158 0.10526316 0.15789474 0.21052632 0.26315789\n",
            " 0.31578947 0.36842105 0.42105263 0.47368421 0.52631579 0.57894737\n",
            " 0.63157895 0.68421053 0.73684211 0.78947368 0.84210526 0.89473684\n",
            " 0.94736842 1.        ]\n"
          ]
        }
      ],
      "source": [
        "linealmenteEspaciado = np.linspace(0, 1, 20)\n",
        "print(linealmenteEspaciado)"
      ]
    },
    {
      "cell_type": "code",
      "execution_count": null,
      "metadata": {
        "id": "RD1cJpaLiZ7P",
        "outputId": "6de900b8-039e-4a3d-e4ce-a9e5d4f05a98"
      },
      "outputs": [
        {
          "data": {
            "text/plain": [
              "array([0.        , 0.05263158, 0.10526316, 0.15789474, 0.21052632,\n",
              "       0.26315789, 0.31578947, 0.36842105, 0.42105263, 0.47368421,\n",
              "       0.52631579, 0.57894737, 0.63157895, 0.68421053, 0.73684211,\n",
              "       0.78947368, 0.84210526, 0.89473684, 0.94736842, 1.        ])"
            ]
          },
          "execution_count": 21,
          "metadata": {},
          "output_type": "execute_result"
        }
      ],
      "source": []
    },
    {
      "cell_type": "markdown",
      "metadata": {
        "id": "oJey_-TPiZ7P"
      },
      "source": [
        "**Indexacion y seleccion con Numpy**\n",
        "\n",
        "Crear una matriz con numeros del 1 al 25 y que tenga forma de 5x5\n",
        "\n"
      ]
    },
    {
      "cell_type": "code",
      "execution_count": 29,
      "metadata": {
        "colab": {
          "base_uri": "https://localhost:8080/"
        },
        "id": "L8-Oil0tiZ7P",
        "outputId": "eef3f9b2-7cb7-4fd7-fdf8-20c93e21bfbf"
      },
      "outputs": [
        {
          "output_type": "stream",
          "name": "stdout",
          "text": [
            "[[ 1  2  3  4  5]\n",
            " [ 6  7  8  9 10]\n",
            " [11 12 13 14 15]\n",
            " [16 17 18 19 20]\n",
            " [21 22 23 24 25]]\n"
          ]
        }
      ],
      "source": [
        "array25 = np.arange(1, 26)\n",
        "matriz25 = array25.reshape(5,5)\n",
        "print(matriz25)\n"
      ]
    },
    {
      "cell_type": "code",
      "execution_count": null,
      "metadata": {
        "id": "0aJ7fjojiZ7P",
        "outputId": "91d3793e-9cdd-45e5-b1d5-e58c5af72ca8"
      },
      "outputs": [
        {
          "data": {
            "text/plain": [
              "array([[ 1,  2,  3,  4,  5],\n",
              "       [ 6,  7,  8,  9, 10],\n",
              "       [11, 12, 13, 14, 15],\n",
              "       [16, 17, 18, 19, 20],\n",
              "       [21, 22, 23, 24, 25]])"
            ]
          },
          "execution_count": 23,
          "metadata": {},
          "output_type": "execute_result"
        }
      ],
      "source": []
    },
    {
      "cell_type": "markdown",
      "metadata": {
        "id": "MrgCyc_SiZ7P"
      },
      "source": [
        "replique los resultados que siguen:\n"
      ]
    },
    {
      "cell_type": "code",
      "execution_count": 31,
      "metadata": {
        "colab": {
          "base_uri": "https://localhost:8080/"
        },
        "id": "kIb4D9hyiZ7W",
        "outputId": "88addc01-7ce8-429c-d8c5-40629bbbd7f1"
      },
      "outputs": [
        {
          "output_type": "stream",
          "name": "stdout",
          "text": [
            "[[12 13 14 15]\n",
            " [17 18 19 20]\n",
            " [22 23 24 25]]\n"
          ]
        }
      ],
      "source": [
        "matrizCortada = matriz25[2:, 1:]\n",
        "print(matrizCortada)"
      ]
    },
    {
      "cell_type": "code",
      "execution_count": null,
      "metadata": {
        "id": "8-3qTD4MiZ7W",
        "outputId": "44629a21-58d7-40ea-9827-219467511632"
      },
      "outputs": [
        {
          "data": {
            "text/plain": [
              "array([[12, 13, 14, 15],\n",
              "       [17, 18, 19, 20],\n",
              "       [22, 23, 24, 25]])"
            ]
          },
          "execution_count": 25,
          "metadata": {},
          "output_type": "execute_result"
        }
      ],
      "source": []
    },
    {
      "cell_type": "code",
      "execution_count": 33,
      "metadata": {
        "colab": {
          "base_uri": "https://localhost:8080/"
        },
        "id": "uq5gvEp1iZ7W",
        "outputId": "d620ffeb-f01d-44f0-df6c-d10e8d94587e"
      },
      "outputs": [
        {
          "output_type": "stream",
          "name": "stdout",
          "text": [
            "20\n"
          ]
        }
      ],
      "source": [
        "cortadaAl20 = matrizCortada[1, 3]\n",
        "print(cortadaAl20)"
      ]
    },
    {
      "cell_type": "code",
      "execution_count": null,
      "metadata": {
        "id": "tNCtTb2biZ7X",
        "outputId": "a7671334-ca33-42ac-a627-afd7db400b06"
      },
      "outputs": [
        {
          "data": {
            "text/plain": [
              "20"
            ]
          },
          "execution_count": 27,
          "metadata": {},
          "output_type": "execute_result"
        }
      ],
      "source": []
    },
    {
      "cell_type": "code",
      "execution_count": 37,
      "metadata": {
        "colab": {
          "base_uri": "https://localhost:8080/"
        },
        "id": "HN8yz5I7iZ7X",
        "outputId": "09122ffb-a12a-4f24-c6df-6b21e0924732"
      },
      "outputs": [
        {
          "output_type": "stream",
          "name": "stdout",
          "text": [
            "[[ 2]\n",
            " [ 7]\n",
            " [12]]\n"
          ]
        }
      ],
      "source": [
        "cortadaSegundaColumna = matriz25[0:3, 1:2]\n",
        "print(cortadaSegundaColumna)"
      ]
    },
    {
      "cell_type": "code",
      "execution_count": null,
      "metadata": {
        "id": "uGv9O3m0iZ7X"
      },
      "outputs": [],
      "source": []
    },
    {
      "cell_type": "code",
      "execution_count": 45,
      "metadata": {
        "colab": {
          "base_uri": "https://localhost:8080/"
        },
        "id": "uDE5TM8HiZ7X",
        "outputId": "27bd8e40-9d53-42b8-cb0f-c7ad73897d9b"
      },
      "outputs": [
        {
          "output_type": "stream",
          "name": "stdout",
          "text": [
            "[[21 22 23 24 25]]\n"
          ]
        }
      ],
      "source": [
        "cortadaUltimaFila = matriz25[4:5, 0:5]\n",
        "print(cortadaUltimaFila)"
      ]
    },
    {
      "cell_type": "code",
      "execution_count": null,
      "metadata": {
        "id": "2dwiEofMiZ7X",
        "outputId": "1e52661a-7dad-49a3-cc75-3b16728ee0e4"
      },
      "outputs": [
        {
          "data": {
            "text/plain": [
              "array([21, 22, 23, 24, 25])"
            ]
          },
          "execution_count": 31,
          "metadata": {},
          "output_type": "execute_result"
        }
      ],
      "source": []
    },
    {
      "cell_type": "code",
      "execution_count": 50,
      "metadata": {
        "colab": {
          "base_uri": "https://localhost:8080/"
        },
        "id": "NFItWSksiZ7X",
        "outputId": "5eab3ad8-f381-47fe-cb99-6d86d5d05535"
      },
      "outputs": [
        {
          "output_type": "stream",
          "name": "stdout",
          "text": [
            "[[16 17 18 19 20]\n",
            " [21 22 23 24 25]]\n"
          ]
        }
      ],
      "source": [
        "cortadaUltimasDosFilas = matriz25[3:5, 0:5]\n",
        "print(cortadaUltimasDosFilas)"
      ]
    },
    {
      "cell_type": "code",
      "execution_count": null,
      "metadata": {
        "id": "j6hJthBMiZ7X",
        "outputId": "b9594525-b16f-47cc-96ed-aecd56dc897c"
      },
      "outputs": [
        {
          "data": {
            "text/plain": [
              "array([[16, 17, 18, 19, 20],\n",
              "       [21, 22, 23, 24, 25]])"
            ]
          },
          "execution_count": 33,
          "metadata": {},
          "output_type": "execute_result"
        }
      ],
      "source": []
    },
    {
      "cell_type": "markdown",
      "metadata": {
        "id": "jSDmazeoiZ7X"
      },
      "source": [
        "**Obtenga la suma de todos los valores de la matriz**"
      ]
    },
    {
      "cell_type": "code",
      "execution_count": null,
      "metadata": {
        "id": "PYf3jFC0iZ7X"
      },
      "outputs": [],
      "source": [
        "# Copie su código aqui"
      ]
    },
    {
      "cell_type": "code",
      "execution_count": 51,
      "metadata": {
        "colab": {
          "base_uri": "https://localhost:8080/"
        },
        "id": "pE84U7LfiZ7X",
        "outputId": "383d503c-025d-426a-c15b-847d1f514660"
      },
      "outputs": [
        {
          "output_type": "stream",
          "name": "stdout",
          "text": [
            "325\n"
          ]
        }
      ],
      "source": [
        "elemSumados = np.sum(matriz25)\n",
        "print(elemSumados)"
      ]
    },
    {
      "cell_type": "markdown",
      "metadata": {
        "id": "3AaLwyC3iZ7X"
      },
      "source": [
        "**Obtenga la desviación estándar de los valores de la matriz**"
      ]
    },
    {
      "cell_type": "code",
      "execution_count": 52,
      "metadata": {
        "colab": {
          "base_uri": "https://localhost:8080/"
        },
        "id": "FK3-j_CniZ7X",
        "outputId": "feae6bb3-9a02-4bcf-dbb0-a48fa377cd56"
      },
      "outputs": [
        {
          "output_type": "stream",
          "name": "stdout",
          "text": [
            "7.211102550927978\n"
          ]
        }
      ],
      "source": [
        "desvEstandar = np.std(matriz25)\n",
        "print(desvEstandar)"
      ]
    },
    {
      "cell_type": "code",
      "execution_count": null,
      "metadata": {
        "id": "JWDT4c1xiZ7X",
        "outputId": "ef7469bf-aa0e-445e-8fe3-be53393ff79f"
      },
      "outputs": [
        {
          "data": {
            "text/plain": [
              "7.211102550927978"
            ]
          },
          "execution_count": 37,
          "metadata": {},
          "output_type": "execute_result"
        }
      ],
      "source": []
    },
    {
      "cell_type": "markdown",
      "metadata": {
        "id": "TaDjG_FdiZ7X"
      },
      "source": [
        "**Obtener la suma de cada una de las columnas de la matriz**"
      ]
    },
    {
      "cell_type": "code",
      "execution_count": 53,
      "metadata": {
        "colab": {
          "base_uri": "https://localhost:8080/"
        },
        "id": "OKtIhnYRiZ7X",
        "outputId": "b83d1901-d1e0-4adb-dbea-2f7208115e48"
      },
      "outputs": [
        {
          "output_type": "stream",
          "name": "stdout",
          "text": [
            "[55 60 65 70 75]\n"
          ]
        }
      ],
      "source": [
        "columnasSumadas = matriz25.sum(axis=0)\n",
        "print(columnasSumadas)"
      ]
    },
    {
      "cell_type": "code",
      "execution_count": null,
      "metadata": {
        "id": "mAb0X9npiZ7X",
        "outputId": "97fa5e98-02b1-49b4-bd0c-5fec023b6b2f"
      },
      "outputs": [
        {
          "data": {
            "text/plain": [
              "array([55, 60, 65, 70, 75])"
            ]
          },
          "execution_count": 39,
          "metadata": {},
          "output_type": "execute_result"
        }
      ],
      "source": []
    },
    {
      "cell_type": "markdown",
      "metadata": {
        "id": "Ly-bPj4piZ7X"
      },
      "source": [
        "## Referencia\n",
        "\n",
        "https://joserzapata.github.io/courses/python-ciencia-datos/numpy/"
      ]
    }
  ],
  "metadata": {
    "kernelspec": {
      "display_name": "Python 3",
      "language": "python",
      "name": "python3"
    },
    "language_info": {
      "codemirror_mode": {
        "name": "ipython",
        "version": 3
      },
      "file_extension": ".py",
      "mimetype": "text/x-python",
      "name": "python",
      "nbconvert_exporter": "python",
      "pygments_lexer": "ipython3",
      "version": "3.10.13"
    },
    "toc": {
      "base_numbering": 1,
      "nav_menu": {},
      "number_sections": true,
      "sideBar": true,
      "skip_h1_title": false,
      "title_cell": "Contenido",
      "title_sidebar": "Contenido",
      "toc_cell": true,
      "toc_position": {},
      "toc_section_display": true,
      "toc_window_display": false
    },
    "varInspector": {
      "cols": {
        "lenName": 16,
        "lenType": 16,
        "lenVar": 40
      },
      "kernels_config": {
        "python": {
          "delete_cmd_postfix": "",
          "delete_cmd_prefix": "del ",
          "library": "var_list.py",
          "varRefreshCmd": "print(var_dic_list())"
        },
        "r": {
          "delete_cmd_postfix": ") ",
          "delete_cmd_prefix": "rm(",
          "library": "var_list.r",
          "varRefreshCmd": "cat(var_dic_list()) "
        }
      },
      "types_to_exclude": [
        "module",
        "function",
        "builtin_function_or_method",
        "instance",
        "_Feature"
      ],
      "window_display": false
    },
    "colab": {
      "provenance": [],
      "include_colab_link": true
    }
  },
  "nbformat": 4,
  "nbformat_minor": 0
}